{
  "nbformat": 4,
  "nbformat_minor": 0,
  "metadata": {
    "colab": {
      "provenance": [],
      "authorship_tag": "ABX9TyNR3cd+n7dY1ZkYKg8wPd4Y",
      "include_colab_link": true
    },
    "kernelspec": {
      "name": "python3",
      "display_name": "Python 3"
    },
    "language_info": {
      "name": "python"
    }
  },
  "cells": [
    {
      "cell_type": "markdown",
      "metadata": {
        "id": "view-in-github",
        "colab_type": "text"
      },
      "source": [
        "<a href=\"https://colab.research.google.com/github/Noahlie07/Stock-Price-Forecasting-with-Long-Short-Term-Memory-Neural-Network/blob/main/Stock_Forecasting_Model_with_LSTM.ipynb\" target=\"_parent\"><img src=\"https://colab.research.google.com/assets/colab-badge.svg\" alt=\"Open In Colab\"/></a>"
      ]
    },
    {
      "cell_type": "markdown",
      "source": [
        "# Stock Forecasting Model"
      ],
      "metadata": {
        "id": "4zUt0S7ovIwO"
      }
    },
    {
      "cell_type": "code",
      "source": [
        "from google.colab import drive\n",
        "drive.mount('/content/drive')"
      ],
      "metadata": {
        "colab": {
          "base_uri": "https://localhost:8080/"
        },
        "id": "RD_NB-VuqVyv",
        "outputId": "4f9b8da3-6907-45c2-ecbe-008a1f7088fe"
      },
      "execution_count": 1,
      "outputs": [
        {
          "output_type": "stream",
          "name": "stdout",
          "text": [
            "Mounted at /content/drive\n"
          ]
        }
      ]
    },
    {
      "cell_type": "markdown",
      "source": [
        "### **Part I: Data Loading and Preprocessing**"
      ],
      "metadata": {
        "id": "VfTF9NVcvPNX"
      }
    },
    {
      "cell_type": "markdown",
      "source": [
        "I began by importing the CSV file through pandas. Since we will only be taking the closing price of the stock as our sole factor, I dropped all features except for Date and Closing Price"
      ],
      "metadata": {
        "id": "W8FI8Xz4vjLb"
      }
    },
    {
      "cell_type": "code",
      "execution_count": 20,
      "metadata": {
        "id": "3G8GLs-quwNg",
        "colab": {
          "base_uri": "https://localhost:8080/",
          "height": 898
        },
        "outputId": "1dd14d15-2b9e-4056-be19-ca1594110dcc"
      },
      "outputs": [
        {
          "output_type": "stream",
          "name": "stdout",
          "text": [
            "            Date        Open        High         Low       Close   Adj Close  \\\n",
            "0     1997-05-15    0.121875    0.125000    0.096354    0.097917    0.097917   \n",
            "1     1997-05-16    0.098438    0.098958    0.085417    0.086458    0.086458   \n",
            "2     1997-05-19    0.088021    0.088542    0.081250    0.085417    0.085417   \n",
            "3     1997-05-20    0.086458    0.087500    0.081771    0.081771    0.081771   \n",
            "4     1997-05-21    0.081771    0.082292    0.068750    0.071354    0.071354   \n",
            "...          ...         ...         ...         ...         ...         ...   \n",
            "6511  2023-03-30  101.550003  103.040001  101.010002  102.000000  102.000000   \n",
            "6512  2023-03-31  102.160004  103.489998  101.949997  103.290001  103.290001   \n",
            "6513  2023-04-03  102.300003  103.290001  101.430000  102.410004  102.410004   \n",
            "6514  2023-04-04  102.750000  104.199997  102.110001  103.949997  103.949997   \n",
            "6515  2023-04-05  103.910004  103.910004  100.750000  101.099998  101.099998   \n",
            "\n",
            "          Volume  \n",
            "0     1443120000  \n",
            "1      294000000  \n",
            "2      122136000  \n",
            "3      109344000  \n",
            "4      377064000  \n",
            "...          ...  \n",
            "6511    53633400  \n",
            "6512    56704300  \n",
            "6513    41135700  \n",
            "6514    48662500  \n",
            "6515    45103000  \n",
            "\n",
            "[6516 rows x 7 columns]\n"
          ]
        },
        {
          "output_type": "display_data",
          "data": {
            "text/plain": [
              "<Figure size 640x480 with 1 Axes>"
            ],
            "image/png": "[encoded data removed]"
          },
          "metadata": {}
        }
      ],
      "source": [
        "import pandas as pd\n",
        "import numpy as np\n",
        "import matplotlib.pyplot as plt\n",
        "\n",
        "import torch\n",
        "import torch.nn as nn\n",
        "\n",
        "from sklearn.preprocessing import MinMaxScaler\n",
        "from torch.utils.data import Dataset\n",
        "from torch.utils.data import DataLoader\n",
        "\n",
        "from sklearn.metrics import mean_squared_error, r2_score\n",
        "\n",
        "data = pd.read_csv('/content/drive/MyDrive/AMZN.csv')\n",
        "print(data)\n",
        "\n",
        "data = data[[\"Date\", \"Close\"]]\n",
        "data['Date'] = pd.to_datetime(data['Date']) ## convert date column from string to actual date datatype\n",
        "plt.plot(data[\"Date\"], data[\"Close\"])\n",
        "plt.show() # Stock we will be working with"
      ]
    },
    {
      "cell_type": "markdown",
      "source": [
        "I then prepared the dataset for sequencing. The reason for this is LSTM takes data in sequences to generate prediction."
      ],
      "metadata": {
        "id": "548xLqs_v78A"
      }
    },
    {
      "cell_type": "code",
      "source": [
        "def shift_dataframe(df, n_steps):\n",
        "    # Create a copy of the dataframe to avoid modifying the input\n",
        "    df = df.copy()\n",
        "\n",
        "    df.set_index('Date', inplace=True)\n",
        "\n",
        "    for i in range(1, n_steps + 1):\n",
        "        df[f'Close(t-{i})'] = df['Close'].shift(i) # shifts values of the whole column backward in time by i positions\n",
        "\n",
        "    df.dropna(inplace=True)\n",
        "    # remove rows with missing values which were created by the shifting operation\n",
        "    # therefore first entry will be the seventh day\n",
        "\n",
        "    return df\n",
        "\n",
        "\n",
        "lookback = 7 # Sequential data later will be in packs of seven days\n",
        "shifted_df = shift_dataframe(data, lookback)\n",
        "print(shifted_df)"
      ],
      "metadata": {
        "id": "xFcasMPivbTT",
        "colab": {
          "base_uri": "https://localhost:8080/"
        },
        "outputId": "761bd451-6248-4eb7-ec6d-37de5843f367"
      },
      "execution_count": 4,
      "outputs": [
        {
          "output_type": "stream",
          "name": "stdout",
          "text": [
            "                 Close  Close(t-1)  Close(t-2)  Close(t-3)  Close(t-4)  \\\n",
            "Date                                                                     \n",
            "1997-05-27    0.079167    0.075000    0.069792    0.071354    0.081771   \n",
            "1997-05-28    0.076563    0.079167    0.075000    0.069792    0.071354   \n",
            "1997-05-29    0.075260    0.076563    0.079167    0.075000    0.069792   \n",
            "1997-05-30    0.075000    0.075260    0.076563    0.079167    0.075000   \n",
            "1997-06-02    0.075521    0.075000    0.075260    0.076563    0.079167   \n",
            "...                ...         ...         ...         ...         ...   \n",
            "2023-03-30  102.000000  100.250000   97.239998   98.040001   98.129997   \n",
            "2023-03-31  103.290001  102.000000  100.250000   97.239998   98.040001   \n",
            "2023-04-03  102.410004  103.290001  102.000000  100.250000   97.239998   \n",
            "2023-04-04  103.949997  102.410004  103.290001  102.000000  100.250000   \n",
            "2023-04-05  101.099998  103.949997  102.410004  103.290001  102.000000   \n",
            "\n",
            "            Close(t-5)  Close(t-6)  Close(t-7)  \n",
            "Date                                            \n",
            "1997-05-27    0.085417    0.086458    0.097917  \n",
            "1997-05-28    0.081771    0.085417    0.086458  \n",
            "1997-05-29    0.071354    0.081771    0.085417  \n",
            "1997-05-30    0.069792    0.071354    0.081771  \n",
            "1997-06-02    0.075000    0.069792    0.071354  \n",
            "...                ...         ...         ...  \n",
            "2023-03-30   98.709999   98.699997  100.610001  \n",
            "2023-03-31   98.129997   98.709999   98.699997  \n",
            "2023-04-03   98.040001   98.129997   98.709999  \n",
            "2023-04-04   97.239998   98.040001   98.129997  \n",
            "2023-04-05  100.250000   97.239998   98.040001  \n",
            "\n",
            "[6509 rows x 8 columns]\n"
          ]
        }
      ]
    },
    {
      "cell_type": "markdown",
      "source": [
        "Scaled stock prices via Min-Max Scaling."
      ],
      "metadata": {
        "id": "r_6DlgfswTG-"
      }
    },
    {
      "cell_type": "code",
      "source": [
        "# convert to numpy and scale closing price from -1 to 1\n",
        "shifted_df_np = shifted_df.to_numpy()\n",
        "scaler = MinMaxScaler((-1, 1))\n",
        "shifted_df_np = scaler.fit_transform(shifted_df_np)\n",
        "\n",
        "# differentiating training features and predicted feature\n",
        "X = shifted_df_np[:, 1:]\n",
        "y = shifted_df_np[:, 0] # first column is date\n",
        "X = np.flip(X, axis=1).copy()\n",
        "# Original order is from Close(t-1) to Close(t-7), whereas we want the oldest data/day to come first"
      ],
      "metadata": {
        "id": "mAJ9fzWbwTws"
      },
      "execution_count": 5,
      "outputs": []
    },
    {
      "cell_type": "markdown",
      "source": [
        "**Train-Test Splitting**  \n",
        "Split data 95% - 5% because the data we are dealing with is quite large. Did it via simple indexing."
      ],
      "metadata": {
        "id": "8nHuX9cKwpHj"
      }
    },
    {
      "cell_type": "code",
      "source": [
        "train_test_split_index = int(len(X) * 0.95)\n",
        "X_train = X[:train_test_split_index]\n",
        "X_test = X[train_test_split_index:]\n",
        "y_train = y[:train_test_split_index]\n",
        "y_test = y[train_test_split_index:]"
      ],
      "metadata": {
        "id": "4CD-UQTTw59k"
      },
      "execution_count": 6,
      "outputs": []
    },
    {
      "cell_type": "markdown",
      "source": [
        "I then proceeded with shaping the dataset to fit the LSTM model.  \n",
        "- Input Data expected by LSTM model should be in the dimension (batch_size, sequence_length, num_features).  \n",
        "- LSTM also expects target output to be in the dimension (batch_size, output_size). Output_size is 1 as in the Closing Price feature."
      ],
      "metadata": {
        "id": "4oLf5Ib8xCa-"
      }
    },
    {
      "cell_type": "code",
      "source": [
        "X_train = X_train.reshape((-1, lookback, 1))\n",
        "X_test = X_test.reshape((-1, lookback, 1))\n",
        "y_train = y_train.reshape((-1, 1))\n",
        "y_test = y_test.reshape((-1, 1))\n",
        "\n",
        "# Converting to Tensors\n",
        "X_train = torch.tensor(X_train).float()\n",
        "y_train = torch.tensor(y_train).float()\n",
        "X_test = torch.tensor(X_test).float()\n",
        "y_test = torch.tensor(y_test).float()"
      ],
      "metadata": {
        "id": "t9VhGw9mw-tx"
      },
      "execution_count": 7,
      "outputs": []
    },
    {
      "cell_type": "markdown",
      "source": [
        "**Batching**  \n",
        "Since the dataset is huge, I will be splitting them into mini-batches for training to be more efficient."
      ],
      "metadata": {
        "id": "oLs4Cm1bx2TZ"
      }
    },
    {
      "cell_type": "markdown",
      "source": [
        "Data is converted into \"Dataset\" object type in order for it to be accepted into the DataLoader."
      ],
      "metadata": {
        "id": "UJH1FjnOyFnk"
      }
    },
    {
      "cell_type": "code",
      "source": [
        "class Dataset(Dataset):\n",
        "    def __init__(self, X, y):\n",
        "        self.X = X\n",
        "        self.y = y\n",
        "\n",
        "    def __len__(self):\n",
        "        return len(self.X)\n",
        "\n",
        "    def __getitem__(self, i):\n",
        "        return self.X[i], self.y[i]\n",
        "\n",
        "training_dataset = Dataset(X_train, y_train)\n",
        "testing_dataset = Dataset(X_test, y_test)"
      ],
      "metadata": {
        "id": "XFB2ahD4yCVL"
      },
      "execution_count": 8,
      "outputs": []
    },
    {
      "cell_type": "markdown",
      "source": [
        "Feeding dataset into DataLoader for batching."
      ],
      "metadata": {
        "id": "4tpku7xmyYtS"
      }
    },
    {
      "cell_type": "code",
      "source": [
        "batch_size = 16 # Customizable\n",
        "train_loader = DataLoader(training_dataset, batch_size=batch_size, shuffle=True)\n",
        "# Randomizes order to prevent overfitting/overspecialization of model to the training data\n",
        "# Weight updates will no longer be biased towards recent trends in batch sequence\n",
        "test_loader = DataLoader(testing_dataset, batch_size=batch_size, shuffle=False)\n",
        "# train_loader and test_loader - Dataloaders - are basically iterators that will help us load the batches during training and testing"
      ],
      "metadata": {
        "id": "gu27rp2ZyT1Q"
      },
      "execution_count": 9,
      "outputs": []
    },
    {
      "cell_type": "code",
      "source": [
        "device = 'cuda:0' if torch.cuda.is_available() else 'cpu' # For those who have a GPU - I personally did not have a GPU but this code is here to help anyone who has a GPU and is running my code themselves run it faster"
      ],
      "metadata": {
        "id": "RuNrzb3cy0uY"
      },
      "execution_count": 10,
      "outputs": []
    },
    {
      "cell_type": "markdown",
      "source": [
        "### **Part II: LSTM Architecture**"
      ],
      "metadata": {
        "id": "TFrF65aQzDij"
      }
    },
    {
      "cell_type": "code",
      "source": [
        "class LSTM(nn.Module):\n",
        "    def __init__(self, input_size, hidden_nodes, num_of_layers):\n",
        "        super().__init__()\n",
        "        self.hidden_size = hidden_nodes\n",
        "        self.num_stacked_layers = num_of_layers\n",
        "\n",
        "        self.lstm = nn.LSTM(input_size, hidden_nodes, num_of_layers,\n",
        "                            batch_first=True) # Emphasize LSTM will be taking in batches\n",
        "\n",
        "        self.fc = nn.Linear(hidden_nodes, 1) # map hidden layer to final output of only one feature (Closing price to be predicted)\n",
        "\n",
        "    def forward(self, x):\n",
        "        batch_size = x.size(0)\n",
        "        # h0 and c0 are the hidden state (short-term memory) and cell state (long-term memory) respectively\n",
        "        h0 = torch.zeros(self.num_stacked_layers, batch_size, self.hidden_size).to(device)\n",
        "        c0 = torch.zeros(self.num_stacked_layers, batch_size, self.hidden_size).to(device)\n",
        "        # Initialized to 0 at the start of each sequence as we don't want memory of previous sequences to influence present sequence\n",
        "        out, _ = self.lstm(x, (h0, c0)) # Pass training features into LSTM\n",
        "        out = self.fc(out[:, -1, :])  # Selects the last timestep's hidden state (short-term memory) which is the prediction\n",
        "        return out\n",
        "\n",
        "model = LSTM(1, 4, 1) # 4 nodes per layer and 1 layer only. Found this to be the best settings.\n",
        "model.to(device) # Load model to GPU if available"
      ],
      "metadata": {
        "id": "9VzxcN3pzR80",
        "colab": {
          "base_uri": "https://localhost:8080/"
        },
        "outputId": "c504f97d-b83f-415d-a2e9-643eb6345e9d"
      },
      "execution_count": 11,
      "outputs": [
        {
          "output_type": "execute_result",
          "data": {
            "text/plain": [
              "LSTM(\n",
              "  (lstm): LSTM(1, 4, batch_first=True)\n",
              "  (fc): Linear(in_features=4, out_features=1, bias=True)\n",
              ")"
            ]
          },
          "metadata": {},
          "execution_count": 11
        }
      ]
    },
    {
      "cell_type": "markdown",
      "source": [
        "I found that 4 nodes per layer and only 1 layer in the hidden layer provided the best result."
      ],
      "metadata": {
        "id": "zHcP55GjzoT0"
      }
    },
    {
      "cell_type": "markdown",
      "source": [
        "### **Part III: Training the Model**"
      ],
      "metadata": {
        "id": "p3sKoxnazL1V"
      }
    },
    {
      "cell_type": "markdown",
      "source": [
        "Defining Loss Function, Optimizer, and the learning rate and num of epochs."
      ],
      "metadata": {
        "id": "bq_qA2RkaACb"
      }
    },
    {
      "cell_type": "code",
      "source": [
        "learning_rate = 0.001\n",
        "num_epochs = 10\n",
        "loss_function = nn.MSELoss() # Mean-Squared Loss - standard loss function\n",
        "optimizer = torch.optim.Adam(model.parameters(), lr=learning_rate)"
      ],
      "metadata": {
        "id": "pMz9KO3RZ9Mb"
      },
      "execution_count": 12,
      "outputs": []
    },
    {
      "cell_type": "markdown",
      "source": [
        "**Training Function** - standard training procedure where weights are updated after every batch. Reports average error across batches every 100 batches (just for us to see if model is improving)"
      ],
      "metadata": {
        "id": "iKRN9hCHaUlU"
      }
    },
    {
      "cell_type": "code",
      "source": [
        "def train_one_epoch():\n",
        "    print(f'Epoch: {epoch + 1}')\n",
        "    running_loss = 0.0\n",
        "\n",
        "    for batch_index, batch in enumerate(train_loader):\n",
        "        x_batch, y_batch = batch[0].to(device), batch[1].to(device) # loads batch into GPU if available\n",
        "\n",
        "        output = model(x_batch) # generate output prediction\n",
        "        loss = loss_function(output, y_batch) # compares output prediction to actual value\n",
        "        running_loss += loss.item()\n",
        "\n",
        "        optimizer.zero_grad() # resets gradients of previous cycle\n",
        "        loss.backward() # computes gradient of loss with respect to all parameters\n",
        "        optimizer.step() # moves weights towards opposite of gradient direction (gradient descent)\n",
        "\n",
        "        if batch_index % 100 == 99:  # every 100 batches\n",
        "            avg_loss_across_batches = running_loss / 100\n",
        "            print('Batch {0}, Loss: {1:.3f}'.format(batch_index+1, avg_loss_across_batches))\n",
        "            print() #newline\n",
        "            running_loss = 0.0"
      ],
      "metadata": {
        "id": "1dYjgkECaTyv"
      },
      "execution_count": 13,
      "outputs": []
    },
    {
      "cell_type": "markdown",
      "source": [
        "**Validation Function** - Purpose is to test the model on unseen data after every epoch trained. Unseen data used here will just be the testing dataset."
      ],
      "metadata": {
        "id": "qe-PQhvoavoT"
      }
    },
    {
      "cell_type": "code",
      "source": [
        "def validate_one_epoch():\n",
        "    running_loss = 0.0\n",
        "\n",
        "    for batch_index, batch in enumerate(test_loader):\n",
        "        x_batch, y_batch = batch[0].to(device), batch[1].to(device)\n",
        "\n",
        "        with torch.no_grad():\n",
        "            output = model(x_batch)\n",
        "            loss = loss_function(output, y_batch)\n",
        "            running_loss += loss.item()\n",
        "\n",
        "    avg_loss_across_batches = running_loss / len(test_loader)\n",
        "\n",
        "    print('Val Loss: {0:.3f}'.format(avg_loss_across_batches))\n",
        "    print()"
      ],
      "metadata": {
        "id": "ol8n66GOacGK"
      },
      "execution_count": 14,
      "outputs": []
    },
    {
      "cell_type": "markdown",
      "source": [
        "Run training and testing for specified number of epochs."
      ],
      "metadata": {
        "id": "2_illBxHbQ_J"
      }
    },
    {
      "cell_type": "code",
      "source": [
        "for epoch in range(num_epochs):\n",
        "    model.train(True)\n",
        "    train_one_epoch()\n",
        "    model.train(False) # so that weights won't be updated during validation\n",
        "    validate_one_epoch()\n",
        "    print(\"------------------\")"
      ],
      "metadata": {
        "colab": {
          "base_uri": "https://localhost:8080/"
        },
        "id": "sPMCNJd2bU35",
        "outputId": "c33eef67-505c-4a42-8159-8ded4609a79d"
      },
      "execution_count": 15,
      "outputs": [
        {
          "output_type": "stream",
          "name": "stdout",
          "text": [
            "Epoch: 1\n",
            "Batch 100, Loss: 0.445\n",
            "\n",
            "Batch 200, Loss: 0.149\n",
            "\n",
            "Batch 300, Loss: 0.078\n",
            "\n",
            "Val Loss: 0.096\n",
            "\n",
            "------------------\n",
            "Epoch: 2\n",
            "Batch 100, Loss: 0.016\n",
            "\n",
            "Batch 200, Loss: 0.009\n",
            "\n",
            "Batch 300, Loss: 0.006\n",
            "\n",
            "Val Loss: 0.015\n",
            "\n",
            "------------------\n",
            "Epoch: 3\n",
            "Batch 100, Loss: 0.004\n",
            "\n",
            "Batch 200, Loss: 0.003\n",
            "\n",
            "Batch 300, Loss: 0.002\n",
            "\n",
            "Val Loss: 0.009\n",
            "\n",
            "------------------\n",
            "Epoch: 4\n",
            "Batch 100, Loss: 0.002\n",
            "\n",
            "Batch 200, Loss: 0.002\n",
            "\n",
            "Batch 300, Loss: 0.001\n",
            "\n",
            "Val Loss: 0.006\n",
            "\n",
            "------------------\n",
            "Epoch: 5\n",
            "Batch 100, Loss: 0.001\n",
            "\n",
            "Batch 200, Loss: 0.001\n",
            "\n",
            "Batch 300, Loss: 0.001\n",
            "\n",
            "Val Loss: 0.006\n",
            "\n",
            "------------------\n",
            "Epoch: 6\n",
            "Batch 100, Loss: 0.001\n",
            "\n",
            "Batch 200, Loss: 0.001\n",
            "\n",
            "Batch 300, Loss: 0.001\n",
            "\n",
            "Val Loss: 0.005\n",
            "\n",
            "------------------\n",
            "Epoch: 7\n",
            "Batch 100, Loss: 0.001\n",
            "\n",
            "Batch 200, Loss: 0.001\n",
            "\n",
            "Batch 300, Loss: 0.001\n",
            "\n",
            "Val Loss: 0.005\n",
            "\n",
            "------------------\n",
            "Epoch: 8\n",
            "Batch 100, Loss: 0.001\n",
            "\n",
            "Batch 200, Loss: 0.001\n",
            "\n",
            "Batch 300, Loss: 0.001\n",
            "\n",
            "Val Loss: 0.005\n",
            "\n",
            "------------------\n",
            "Epoch: 9\n",
            "Batch 100, Loss: 0.000\n",
            "\n",
            "Batch 200, Loss: 0.000\n",
            "\n",
            "Batch 300, Loss: 0.000\n",
            "\n",
            "Val Loss: 0.004\n",
            "\n",
            "------------------\n",
            "Epoch: 10\n",
            "Batch 100, Loss: 0.000\n",
            "\n",
            "Batch 200, Loss: 0.000\n",
            "\n",
            "Batch 300, Loss: 0.000\n",
            "\n",
            "Val Loss: 0.005\n",
            "\n",
            "------------------\n"
          ]
        }
      ]
    },
    {
      "cell_type": "markdown",
      "source": [
        "### **Part IV: Generate Predictions and Results**"
      ],
      "metadata": {
        "id": "426AHciOcDWe"
      }
    },
    {
      "cell_type": "code",
      "source": [
        "test_predictions = model(X_test.to(device)).detach().cpu().numpy().flatten() # .detach() to remove all calculated gradients during training"
      ],
      "metadata": {
        "id": "QzBz8662cIJ7"
      },
      "execution_count": 16,
      "outputs": []
    },
    {
      "cell_type": "markdown",
      "source": [
        "**Inverse Scaling**  \n",
        "Inverse Scaling generated predictions and actual values to original scale for comparison and graphing purposes.  \n",
        "The scaler's .inverse_transform() function **only works on objects of the same dimension as that it is fitted on**. Therefore, we create dummy arrays that have the same dimensions as the previous arrays fitted into the scaler, and then conduct inverse scaling."
      ],
      "metadata": {
        "id": "wqx0WRkOcnW0"
      }
    },
    {
      "cell_type": "code",
      "source": [
        "# our initiated MinMaxScaler only recognizes the original dimension we fitted it in,\n",
        "# that being (rows - num of samples, col - Close, Close(t-1), ..., Close(t-7))\n",
        "dummies = np.zeros((X_test.shape[0], lookback+1))\n",
        "dummies[:, 0] = test_predictions\n",
        "dummies = scaler.inverse_transform(dummies)\n",
        "\n",
        "test_predictions = dummies[:, 0].copy()\n",
        "\n",
        "dummies = np.zeros((X_test.shape[0], lookback+1))\n",
        "dummies[:, 0] = y_test.flatten()\n",
        "dummies = scaler.inverse_transform(dummies)\n",
        "\n",
        "y_test = dummies[:, 0].copy()"
      ],
      "metadata": {
        "colab": {
          "base_uri": "https://localhost:8080/"
        },
        "id": "04Jl7OqVcsXw",
        "outputId": "b1be807b-1f6c-4aac-e406-d4b365db33ab"
      },
      "execution_count": 17,
      "outputs": [
        {
          "output_type": "stream",
          "name": "stderr",
          "text": [
            "<ipython-input-17-1e1cc4db91e0>:10: DeprecationWarning: __array__ implementation doesn't accept a copy keyword, so passing copy=False failed. __array__ must implement 'dtype' and 'copy' keyword arguments.\n",
            "  dummies[:, 0] = y_test.flatten()\n"
          ]
        }
      ]
    },
    {
      "cell_type": "markdown",
      "source": [
        "**Graphing**"
      ],
      "metadata": {
        "id": "t0SP2yfgdiLP"
      }
    },
    {
      "cell_type": "code",
      "source": [
        "plt.plot(y_test, label='Actual Close')\n",
        "plt.plot(test_predictions, label='Predicted Close')\n",
        "plt.xlabel('Day')\n",
        "plt.ylabel('Close')\n",
        "plt.title('Prediction on Testing Dataset')\n",
        "plt.legend()\n",
        "plt.show()"
      ],
      "metadata": {
        "colab": {
          "base_uri": "https://localhost:8080/",
          "height": 472
        },
        "id": "It9781ybdkQW",
        "outputId": "09a26ecb-2f09-4810-c7e9-4fe01966e6af"
      },
      "execution_count": 18,
      "outputs": [
        {
          "output_type": "display_data",
          "data": {
            "text/plain": [
              "<Figure size 640x480 with 1 Axes>"
            ],
            "image/png": "[encoded data removed]"
          },
          "metadata": {}
        }
      ]
    },
    {
      "cell_type": "markdown",
      "source": [
        "**Checking model accuracy**"
      ],
      "metadata": {
        "id": "bykGI8lmlAKB"
      }
    },
    {
      "cell_type": "markdown",
      "source": [
        "The Root-Mean-Squared-Error of this project is less than 25% of the stock's actual volatility. The R-squared is above 0.9, close to 1, therefore indicating that the model has solid predictive power."
      ],
      "metadata": {
        "id": "1q1CQ-LulMLv"
      }
    },
    {
      "cell_type": "code",
      "source": [
        "# Generating error scores of predictions generated\n",
        "mse = mean_squared_error(y_test, test_predictions)\n",
        "rmse = np.sqrt(mse)\n",
        "r2 = r2_score(y_test, test_predictions)\n",
        "\n",
        "print(f\"Root Mean Squared Error: {rmse:.4f}\")\n",
        "print(f\"Std dev of y_test: {np.std(y_test):.4f}\")\n",
        "print(f\"R-squared: {r2:.4f}\")\n",
        "# r2 = 1 - (Sum of Squared Residuals / Total Sum of Squares)\n",
        "# For those who don't know,\n",
        "# SSR is the sum of the difference between predicted and actual value squared\n",
        "# TSS is the sum of the difference between actual value and mean value"
      ],
      "metadata": {
        "colab": {
          "base_uri": "https://localhost:8080/"
        },
        "id": "HzGPGlu4lEtN",
        "outputId": "5f15f53b-d426-450b-8539-127632511220"
      },
      "execution_count": 21,
      "outputs": [
        {
          "output_type": "stream",
          "name": "stdout",
          "text": [
            "Root Mean Squared Error: 6.7447\n",
            "Std dev of y_test: 25.5163\n",
            "R-squared: 0.9301\n"
          ]
        }
      ]
    },
    {
      "cell_type": "markdown",
      "source": [
        "### **Things I did to try improve accuracy**"
      ],
      "metadata": {
        "id": "oa8XFz2Lo-9y"
      }
    },
    {
      "cell_type": "markdown",
      "source": [
        "- Experimentation on **Sequence Length**\n",
        "- Experimentation on Different **train-test split ratios**\n",
        "- **Hidden nodes, num. of hidden layers** tuning\n",
        "- Experimentation on different **batch sizes**\n",
        "- Experimentation on number of **epochs and learning rates**  \n",
        "I found the current setting on these parameters to yield the best value. Feel free to try different parameter values yourself."
      ],
      "metadata": {
        "id": "Vn3EUXHOpD1m"
      }
    }
  ]
}